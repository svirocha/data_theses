{
 "cells": [
  {
   "cell_type": "markdown",
   "metadata": {},
   "source": [
    "# Introdução a Python para Análise de Dados"
   ]
  },
  {
   "cell_type": "markdown",
   "metadata": {},
   "source": [
    "# 7. Exercicios \n",
    "\n",
    "## Atenção! Não vale procurar a solução na internet. A ideia aqui é exercitar o pensamento algoritimíco, em que você traça uma solução baseada no que foi visto até o momento. "
   ]
  },
  {
   "cell_type": "markdown",
   "metadata": {},
   "source": [
    "### 7.1 Crie e execute uma função que recebe um número qualquer e retorna a soma de todos os números de 1 até o número recebido. Ex: recebe 5 e retorna 1+2+3+4+5."
   ]
  },
  {
   "cell_type": "code",
   "execution_count": 1,
   "metadata": {},
   "outputs": [
    {
     "data": {
      "text/plain": [
       "15"
      ]
     },
     "execution_count": 1,
     "metadata": {},
     "output_type": "execute_result"
    }
   ],
   "source": [
    "def funcao1(num):\n",
    "    outnum = 0\n",
    "    for i in range(num+1):\n",
    "        outnum = outnum + i\n",
    "    return outnum\n",
    "\n",
    "funcao1(5)"
   ]
  },
  {
   "cell_type": "markdown",
   "metadata": {},
   "source": [
    "### 7.2 Faça uma função que recebe dois números, base e expoente, calcula e mostra o primeiro número elevado ao segundo número. Não utilize a função de potência da linguagem."
   ]
  },
  {
   "cell_type": "code",
   "execution_count": 2,
   "metadata": {},
   "outputs": [
    {
     "data": {
      "text/plain": [
       "9"
      ]
     },
     "execution_count": 2,
     "metadata": {},
     "output_type": "execute_result"
    }
   ],
   "source": [
    "def funcao2(base, expoente):\n",
    "    if expoente == 1:\n",
    "        return base \n",
    "    else:\n",
    "        outnum = base * base\n",
    "        for i in range(expoente-2):\n",
    "            outnum = outnum * base\n",
    "        return outnum\n",
    "\n",
    "funcao2(3, 2)"
   ]
  },
  {
   "cell_type": "code",
   "execution_count": 3,
   "metadata": {},
   "outputs": [
    {
     "data": {
      "text/plain": [
       "9"
      ]
     },
     "execution_count": 3,
     "metadata": {},
     "output_type": "execute_result"
    }
   ],
   "source": [
    "def funcao2(base, expoente):\n",
    "    if expoente == 1:\n",
    "        return base \n",
    "    else:\n",
    "        outnum = base * base\n",
    "        #while\n",
    "        for i in range(expoente-2):\n",
    "            outnum = outnum * base\n",
    "        return outnum\n",
    "\n",
    "funcao2(3, 2)"
   ]
  },
  {
   "cell_type": "markdown",
   "metadata": {},
   "source": [
    "7.3 Crie e execute uma função que mostra a sequência de Fibonacci até 20 termos. O número seguinte é encontrado a partir da soma dos dois números anteriores. Primeiros 10 termos da sequência de Fibonacci: 0  1  1  2  3  5  8  13  21  34. \n"
   ]
  },
  {
   "cell_type": "code",
   "execution_count": 4,
   "metadata": {},
   "outputs": [
    {
     "name": "stdout",
     "output_type": "stream",
     "text": [
      "0\n",
      "1\n",
      "1\n",
      "2\n",
      "3\n",
      "5\n",
      "8\n",
      "13\n",
      "21\n",
      "34\n",
      "55\n",
      "89\n",
      "144\n",
      "233\n",
      "377\n",
      "610\n",
      "987\n",
      "1597\n",
      "2584\n",
      "4181\n"
     ]
    }
   ],
   "source": [
    "def funcaoFibonacci(ate):\n",
    "    n1 = 0\n",
    "    n2 = 1 \n",
    "    count = 0\n",
    "    while count < ate:\n",
    "        print(n1)\n",
    "        nth = n1 + n2\n",
    "        # update values\n",
    "        n1 = n2\n",
    "        n2 = nth\n",
    "        count = count + 1\n",
    "\n",
    "\n",
    "funcaoFibonacci(20)"
   ]
  },
  {
   "cell_type": "markdown",
   "metadata": {},
   "source": [
    "7.4 Supondo que a população de um país A seja da ordem de 80000 habitantes com uma taxa anual de crescimento de 3% e que a população de B seja 200000 habitantes com uma taxa de crescimento de 1.5%. Faça uma função que calcula e retorna o número de anos necessários para que a população do país A ultrapasse ou iguale a população do país B, mantidas as taxas de crescimento."
   ]
  },
  {
   "cell_type": "code",
   "execution_count": 2,
   "metadata": {},
   "outputs": [
    {
     "data": {
      "text/plain": [
       "63"
      ]
     },
     "execution_count": 2,
     "metadata": {},
     "output_type": "execute_result"
    }
   ],
   "source": [
    "def funcao4():\n",
    "    \n",
    "    paisA = 80000\n",
    "    paisB = 200000\n",
    "    anos = 0\n",
    "\n",
    "    while paisA < paisB:\n",
    "        paisA = paisA + paisA*0.030\n",
    "        paisB = paisB + paisB*0.015\n",
    "        anos += 1\n",
    "    \n",
    "    return anos\n",
    "\n",
    "\n",
    "funcao4()"
   ]
  },
  {
   "cell_type": "markdown",
   "metadata": {},
   "source": [
    "# Lista de dados em Python"
   ]
  },
  {
   "cell_type": "code",
   "execution_count": 3,
   "metadata": {},
   "outputs": [
    {
     "name": "stdout",
     "output_type": "stream",
     "text": [
      "['banana', 'maracujá', 'limão']\n"
     ]
    }
   ],
   "source": [
    "lista_frutas = ['banana', 'maracujá', 'limão']\n",
    "print(lista_frutas)"
   ]
  },
  {
   "cell_type": "code",
   "execution_count": 4,
   "metadata": {},
   "outputs": [
    {
     "data": {
      "text/plain": [
       "'banana'"
      ]
     },
     "execution_count": 4,
     "metadata": {},
     "output_type": "execute_result"
    }
   ],
   "source": [
    "lista_frutas[0]"
   ]
  },
  {
   "cell_type": "code",
   "execution_count": 5,
   "metadata": {},
   "outputs": [
    {
     "data": {
      "text/plain": [
       "'limão'"
      ]
     },
     "execution_count": 5,
     "metadata": {},
     "output_type": "execute_result"
    }
   ],
   "source": [
    "lista_frutas[-1]"
   ]
  },
  {
   "cell_type": "code",
   "execution_count": 6,
   "metadata": {},
   "outputs": [
    {
     "data": {
      "text/plain": [
       "['maracujá', 'limão']"
      ]
     },
     "execution_count": 6,
     "metadata": {},
     "output_type": "execute_result"
    }
   ],
   "source": [
    "lista_frutas[1:3]"
   ]
  },
  {
   "cell_type": "code",
   "execution_count": 7,
   "metadata": {},
   "outputs": [
    {
     "data": {
      "text/plain": [
       "['maracujá']"
      ]
     },
     "execution_count": 7,
     "metadata": {},
     "output_type": "execute_result"
    }
   ],
   "source": [
    "lista_frutas[1:2]"
   ]
  },
  {
   "cell_type": "code",
   "execution_count": 8,
   "metadata": {},
   "outputs": [
    {
     "data": {
      "text/plain": [
       "['banana', 'maracujá', 'limão']"
      ]
     },
     "execution_count": 8,
     "metadata": {},
     "output_type": "execute_result"
    }
   ],
   "source": [
    "lista_frutas[:]"
   ]
  },
  {
   "cell_type": "code",
   "execution_count": 9,
   "metadata": {},
   "outputs": [
    {
     "data": {
      "text/plain": [
       "['banana', 'maracujá']"
      ]
     },
     "execution_count": 9,
     "metadata": {},
     "output_type": "execute_result"
    }
   ],
   "source": [
    "lista_frutas[:2]"
   ]
  },
  {
   "cell_type": "code",
   "execution_count": 10,
   "metadata": {},
   "outputs": [
    {
     "data": {
      "text/plain": [
       "['mamão', 'maracujá', 'limão']"
      ]
     },
     "execution_count": 10,
     "metadata": {},
     "output_type": "execute_result"
    }
   ],
   "source": [
    "# mudar valor da lista\n",
    "lista_frutas[0] = 'mamão'\n",
    "lista_frutas"
   ]
  },
  {
   "cell_type": "code",
   "execution_count": 11,
   "metadata": {},
   "outputs": [
    {
     "data": {
      "text/plain": [
       "['mamão', 'maracujá', 'limão', 'abacaxi']"
      ]
     },
     "execution_count": 11,
     "metadata": {},
     "output_type": "execute_result"
    }
   ],
   "source": [
    "# adicionar valor a lista\n",
    "lista_frutas.append('abacaxi')\n",
    "lista_frutas"
   ]
  },
  {
   "cell_type": "code",
   "execution_count": 12,
   "metadata": {},
   "outputs": [
    {
     "data": {
      "text/plain": [
       "[0, 1, 2, 3]"
      ]
     },
     "execution_count": 12,
     "metadata": {},
     "output_type": "execute_result"
    }
   ],
   "source": [
    "exemplo = []\n",
    "for i in range(len(lista_frutas)):\n",
    "    exemplo.append(i)\n",
    "\n",
    "exemplo"
   ]
  },
  {
   "cell_type": "code",
   "execution_count": 13,
   "metadata": {},
   "outputs": [
    {
     "data": {
      "text/plain": [
       "['maracujá', 'limão', 'abacaxi']"
      ]
     },
     "execution_count": 13,
     "metadata": {},
     "output_type": "execute_result"
    }
   ],
   "source": [
    "# remove valor da lista\n",
    "lista_frutas.remove(\"mamão\")\n",
    "lista_frutas"
   ]
  },
  {
   "cell_type": "code",
   "execution_count": 14,
   "metadata": {},
   "outputs": [
    {
     "name": "stdout",
     "output_type": "stream",
     "text": [
      "maracujá\n",
      "limão\n",
      "abacaxi\n"
     ]
    }
   ],
   "source": [
    "# loop em listas\n",
    "for i in lista_frutas:\n",
    "  print(i)"
   ]
  },
  {
   "cell_type": "code",
   "execution_count": 99,
   "metadata": {},
   "outputs": [
    {
     "name": "stdout",
     "output_type": "stream",
     "text": [
      "maracujá\n",
      "limão\n",
      "abacaxi\n",
      "banana\n",
      "uva\n"
     ]
    }
   ],
   "source": [
    "# loop em listas\n",
    "for i in range(len(lista_frutas)):\n",
    "  print(lista_frutas[i])"
   ]
  },
  {
   "cell_type": "code",
   "execution_count": 16,
   "metadata": {},
   "outputs": [
    {
     "data": {
      "text/plain": [
       "['maracujá', 'limão', 'abacaxi']"
      ]
     },
     "execution_count": 16,
     "metadata": {},
     "output_type": "execute_result"
    }
   ],
   "source": [
    "# list comprehension\n",
    "lista_frutas2 =  [i for i in lista_frutas]\n",
    "lista_frutas2"
   ]
  },
  {
   "cell_type": "code",
   "execution_count": 17,
   "metadata": {},
   "outputs": [
    {
     "data": {
      "text/plain": [
       "['maracujá maduro', 'limão maduro', 'abacaxi maduro']"
      ]
     },
     "execution_count": 17,
     "metadata": {},
     "output_type": "execute_result"
    }
   ],
   "source": [
    "# list comprehension\n",
    "lista_frutas2 =  [i + ' maduro' for i in lista_frutas]\n",
    "lista_frutas2"
   ]
  },
  {
   "cell_type": "markdown",
   "metadata": {},
   "source": [
    "# Dicionário de Dados em Python"
   ]
  },
  {
   "cell_type": "code",
   "execution_count": 18,
   "metadata": {},
   "outputs": [
    {
     "name": "stdout",
     "output_type": "stream",
     "text": [
      "{'marca': 'Ford', 'modelo': 'Mustang', 'ano': 1964}\n"
     ]
    }
   ],
   "source": [
    "dict1 = {\n",
    "  \"marca\": \"Ford\",\n",
    "  \"modelo\": \"Mustang\",\n",
    "  \"ano\": 1964\n",
    "}\n",
    "\n",
    "print(dict1)"
   ]
  },
  {
   "cell_type": "code",
   "execution_count": 19,
   "metadata": {},
   "outputs": [
    {
     "name": "stdout",
     "output_type": "stream",
     "text": [
      "marca\n",
      "modelo\n",
      "ano\n"
     ]
    }
   ],
   "source": [
    "for i in dict1:\n",
    "    print(i)"
   ]
  },
  {
   "cell_type": "code",
   "execution_count": 20,
   "metadata": {},
   "outputs": [
    {
     "data": {
      "text/plain": [
       "1964"
      ]
     },
     "execution_count": 20,
     "metadata": {},
     "output_type": "execute_result"
    }
   ],
   "source": [
    "dict1[\"ano\"]"
   ]
  },
  {
   "cell_type": "code",
   "execution_count": 21,
   "metadata": {},
   "outputs": [
    {
     "data": {
      "text/plain": [
       "3"
      ]
     },
     "execution_count": 21,
     "metadata": {},
     "output_type": "execute_result"
    }
   ],
   "source": [
    "len(dict1)"
   ]
  },
  {
   "cell_type": "code",
   "execution_count": 27,
   "metadata": {},
   "outputs": [
    {
     "name": "stdout",
     "output_type": "stream",
     "text": [
      "{'quantidade': [], 'frutas': []}\n"
     ]
    }
   ],
   "source": [
    "dict1 = {\n",
    "  \"quantidade\": [],\n",
    "  \"frutas\": []\n",
    "}\n",
    "print(dict1)"
   ]
  },
  {
   "cell_type": "code",
   "execution_count": 28,
   "metadata": {},
   "outputs": [
    {
     "data": {
      "text/plain": [
       "dict_keys(['quantidade', 'frutas'])"
      ]
     },
     "execution_count": 28,
     "metadata": {},
     "output_type": "execute_result"
    }
   ],
   "source": [
    "dict1.keys()"
   ]
  },
  {
   "cell_type": "code",
   "execution_count": 29,
   "metadata": {},
   "outputs": [
    {
     "data": {
      "text/plain": [
       "dict_values([[], []])"
      ]
     },
     "execution_count": 29,
     "metadata": {},
     "output_type": "execute_result"
    }
   ],
   "source": [
    "dict1.values()"
   ]
  },
  {
   "cell_type": "code",
   "execution_count": 30,
   "metadata": {},
   "outputs": [
    {
     "name": "stdout",
     "output_type": "stream",
     "text": [
      "quantidade []\n",
      "frutas []\n"
     ]
    }
   ],
   "source": [
    "for x, y in dict1.items():\n",
    "  print(x, y)"
   ]
  },
  {
   "cell_type": "code",
   "execution_count": 31,
   "metadata": {},
   "outputs": [
    {
     "data": {
      "text/plain": [
       "{'quantidade': [], 'frutas': []}"
      ]
     },
     "execution_count": 31,
     "metadata": {},
     "output_type": "execute_result"
    }
   ],
   "source": [
    "dict1"
   ]
  },
  {
   "cell_type": "code",
   "execution_count": 32,
   "metadata": {},
   "outputs": [],
   "source": [
    "dict1['quantidade'] = 10"
   ]
  },
  {
   "cell_type": "markdown",
   "metadata": {},
   "source": [
    "# Pandas DataFrame"
   ]
  },
  {
   "cell_type": "code",
   "execution_count": 33,
   "metadata": {},
   "outputs": [],
   "source": [
    "# importar pacote\n",
    "import pandas as pd"
   ]
  },
  {
   "cell_type": "code",
   "execution_count": 34,
   "metadata": {},
   "outputs": [
    {
     "data": {
      "text/plain": [
       "['maracujá', 'limão', 'abacaxi']"
      ]
     },
     "execution_count": 34,
     "metadata": {},
     "output_type": "execute_result"
    }
   ],
   "source": [
    "lista_frutas"
   ]
  },
  {
   "cell_type": "code",
   "execution_count": 35,
   "metadata": {},
   "outputs": [],
   "source": [
    "datalista = {\n",
    "  'frutas': lista_frutas,\n",
    "  'quantidade': [3, 7, 2]\n",
    "}"
   ]
  },
  {
   "cell_type": "code",
   "execution_count": 36,
   "metadata": {},
   "outputs": [
    {
     "data": {
      "text/plain": [
       "{'frutas': ['maracujá', 'limão', 'abacaxi'], 'quantidade': [3, 7, 2]}"
      ]
     },
     "execution_count": 36,
     "metadata": {},
     "output_type": "execute_result"
    }
   ],
   "source": [
    "datalista"
   ]
  },
  {
   "cell_type": "code",
   "execution_count": 37,
   "metadata": {},
   "outputs": [
    {
     "name": "stdout",
     "output_type": "stream",
     "text": [
      "     frutas  quantidade\n",
      "0  maracujá           3\n",
      "1     limão           7\n",
      "2   abacaxi           2\n"
     ]
    }
   ],
   "source": [
    "dataset = pd.DataFrame(datalista)\n",
    "\n",
    "print(dataset)"
   ]
  },
  {
   "cell_type": "code",
   "execution_count": 38,
   "metadata": {},
   "outputs": [
    {
     "data": {
      "text/plain": [
       "['maracujá', 'limão', 'abacaxi']"
      ]
     },
     "execution_count": 38,
     "metadata": {},
     "output_type": "execute_result"
    }
   ],
   "source": [
    "datalista['frutas']"
   ]
  },
  {
   "cell_type": "code",
   "execution_count": 39,
   "metadata": {},
   "outputs": [],
   "source": [
    "novas_frutas = ['banana', 'uva']\n",
    "for i in novas_frutas:\n",
    "    datalista['frutas'].append(i)"
   ]
  },
  {
   "cell_type": "code",
   "execution_count": 40,
   "metadata": {},
   "outputs": [
    {
     "data": {
      "text/plain": [
       "{'frutas': ['maracujá', 'limão', 'abacaxi', 'banana', 'uva'],\n",
       " 'quantidade': [3, 7, 2]}"
      ]
     },
     "execution_count": 40,
     "metadata": {},
     "output_type": "execute_result"
    }
   ],
   "source": [
    "datalista"
   ]
  },
  {
   "cell_type": "code",
   "execution_count": 41,
   "metadata": {},
   "outputs": [],
   "source": [
    "import numpy as np\n",
    "\n",
    "for i in range(2):\n",
    "    datalista['quantidade'].append(np.nan)"
   ]
  },
  {
   "cell_type": "code",
   "execution_count": 42,
   "metadata": {},
   "outputs": [
    {
     "data": {
      "text/html": [
       "<div>\n",
       "<style scoped>\n",
       "    .dataframe tbody tr th:only-of-type {\n",
       "        vertical-align: middle;\n",
       "    }\n",
       "\n",
       "    .dataframe tbody tr th {\n",
       "        vertical-align: top;\n",
       "    }\n",
       "\n",
       "    .dataframe thead th {\n",
       "        text-align: right;\n",
       "    }\n",
       "</style>\n",
       "<table border=\"1\" class=\"dataframe\">\n",
       "  <thead>\n",
       "    <tr style=\"text-align: right;\">\n",
       "      <th></th>\n",
       "      <th>frutas</th>\n",
       "      <th>quantidade</th>\n",
       "    </tr>\n",
       "  </thead>\n",
       "  <tbody>\n",
       "    <tr>\n",
       "      <th>0</th>\n",
       "      <td>maracujá</td>\n",
       "      <td>3.0</td>\n",
       "    </tr>\n",
       "    <tr>\n",
       "      <th>1</th>\n",
       "      <td>limão</td>\n",
       "      <td>7.0</td>\n",
       "    </tr>\n",
       "    <tr>\n",
       "      <th>2</th>\n",
       "      <td>abacaxi</td>\n",
       "      <td>2.0</td>\n",
       "    </tr>\n",
       "    <tr>\n",
       "      <th>3</th>\n",
       "      <td>banana</td>\n",
       "      <td>NaN</td>\n",
       "    </tr>\n",
       "    <tr>\n",
       "      <th>4</th>\n",
       "      <td>uva</td>\n",
       "      <td>NaN</td>\n",
       "    </tr>\n",
       "  </tbody>\n",
       "</table>\n",
       "</div>"
      ],
      "text/plain": [
       "     frutas  quantidade\n",
       "0  maracujá         3.0\n",
       "1     limão         7.0\n",
       "2   abacaxi         2.0\n",
       "3    banana         NaN\n",
       "4       uva         NaN"
      ]
     },
     "execution_count": 42,
     "metadata": {},
     "output_type": "execute_result"
    }
   ],
   "source": [
    "pd.DataFrame(datalista)"
   ]
  },
  {
   "cell_type": "code",
   "execution_count": 43,
   "metadata": {},
   "outputs": [],
   "source": [
    "# salvar csv\n",
    "dataset.to_csv('frutas.csv', index=False)"
   ]
  },
  {
   "cell_type": "code",
   "execution_count": 44,
   "metadata": {},
   "outputs": [
    {
     "data": {
      "text/html": [
       "<div>\n",
       "<style scoped>\n",
       "    .dataframe tbody tr th:only-of-type {\n",
       "        vertical-align: middle;\n",
       "    }\n",
       "\n",
       "    .dataframe tbody tr th {\n",
       "        vertical-align: top;\n",
       "    }\n",
       "\n",
       "    .dataframe thead th {\n",
       "        text-align: right;\n",
       "    }\n",
       "</style>\n",
       "<table border=\"1\" class=\"dataframe\">\n",
       "  <thead>\n",
       "    <tr style=\"text-align: right;\">\n",
       "      <th></th>\n",
       "      <th>frutas</th>\n",
       "      <th>quantidade</th>\n",
       "    </tr>\n",
       "  </thead>\n",
       "  <tbody>\n",
       "    <tr>\n",
       "      <th>0</th>\n",
       "      <td>maracujá</td>\n",
       "      <td>3</td>\n",
       "    </tr>\n",
       "    <tr>\n",
       "      <th>1</th>\n",
       "      <td>limão</td>\n",
       "      <td>7</td>\n",
       "    </tr>\n",
       "    <tr>\n",
       "      <th>2</th>\n",
       "      <td>abacaxi</td>\n",
       "      <td>2</td>\n",
       "    </tr>\n",
       "  </tbody>\n",
       "</table>\n",
       "</div>"
      ],
      "text/plain": [
       "     frutas  quantidade\n",
       "0  maracujá           3\n",
       "1     limão           7\n",
       "2   abacaxi           2"
      ]
     },
     "execution_count": 44,
     "metadata": {},
     "output_type": "execute_result"
    }
   ],
   "source": [
    "# ler csv\n",
    "dataset = pd.read_csv('frutas.csv')\n",
    "dataset"
   ]
  },
  {
   "cell_type": "code",
   "execution_count": 45,
   "metadata": {},
   "outputs": [
    {
     "name": "stdout",
     "output_type": "stream",
     "text": [
      "     frutas  quantidade\n",
      "0  maracujá           3\n",
      "1     limão           7\n",
      "2   abacaxi           2\n"
     ]
    }
   ],
   "source": [
    "print(dataset.head(10))"
   ]
  },
  {
   "cell_type": "code",
   "execution_count": 46,
   "metadata": {},
   "outputs": [
    {
     "data": {
      "text/plain": [
       "'maracujá'"
      ]
     },
     "execution_count": 46,
     "metadata": {},
     "output_type": "execute_result"
    }
   ],
   "source": [
    "# acessando informacao\n",
    "dataset['frutas'][0]"
   ]
  },
  {
   "cell_type": "code",
   "execution_count": 47,
   "metadata": {},
   "outputs": [
    {
     "data": {
      "text/plain": [
       "2"
      ]
     },
     "execution_count": 47,
     "metadata": {},
     "output_type": "execute_result"
    }
   ],
   "source": [
    "dataset['quantidade'][2]"
   ]
  },
  {
   "cell_type": "code",
   "execution_count": 48,
   "metadata": {},
   "outputs": [
    {
     "data": {
      "text/plain": [
       "0    maracujá\n",
       "1       limão\n",
       "2     abacaxi\n",
       "Name: frutas, dtype: object"
      ]
     },
     "execution_count": 48,
     "metadata": {},
     "output_type": "execute_result"
    }
   ],
   "source": [
    "dataset.frutas"
   ]
  },
  {
   "cell_type": "code",
   "execution_count": 49,
   "metadata": {},
   "outputs": [
    {
     "data": {
      "text/html": [
       "<div>\n",
       "<style scoped>\n",
       "    .dataframe tbody tr th:only-of-type {\n",
       "        vertical-align: middle;\n",
       "    }\n",
       "\n",
       "    .dataframe tbody tr th {\n",
       "        vertical-align: top;\n",
       "    }\n",
       "\n",
       "    .dataframe thead th {\n",
       "        text-align: right;\n",
       "    }\n",
       "</style>\n",
       "<table border=\"1\" class=\"dataframe\">\n",
       "  <thead>\n",
       "    <tr style=\"text-align: right;\">\n",
       "      <th></th>\n",
       "      <th>frutas</th>\n",
       "      <th>quantidade</th>\n",
       "    </tr>\n",
       "  </thead>\n",
       "  <tbody>\n",
       "    <tr>\n",
       "      <th>0</th>\n",
       "      <td>maracujá</td>\n",
       "      <td>3</td>\n",
       "    </tr>\n",
       "    <tr>\n",
       "      <th>1</th>\n",
       "      <td>limão</td>\n",
       "      <td>7</td>\n",
       "    </tr>\n",
       "  </tbody>\n",
       "</table>\n",
       "</div>"
      ],
      "text/plain": [
       "     frutas  quantidade\n",
       "0  maracujá           3\n",
       "1     limão           7"
      ]
     },
     "execution_count": 49,
     "metadata": {},
     "output_type": "execute_result"
    }
   ],
   "source": [
    "# operacoes condicionais\n",
    "dataset = dataset[dataset.frutas != 'abacaxi']\n",
    "dataset"
   ]
  },
  {
   "cell_type": "code",
   "execution_count": 50,
   "metadata": {},
   "outputs": [
    {
     "data": {
      "text/html": [
       "<div>\n",
       "<style scoped>\n",
       "    .dataframe tbody tr th:only-of-type {\n",
       "        vertical-align: middle;\n",
       "    }\n",
       "\n",
       "    .dataframe tbody tr th {\n",
       "        vertical-align: top;\n",
       "    }\n",
       "\n",
       "    .dataframe thead th {\n",
       "        text-align: right;\n",
       "    }\n",
       "</style>\n",
       "<table border=\"1\" class=\"dataframe\">\n",
       "  <thead>\n",
       "    <tr style=\"text-align: right;\">\n",
       "      <th></th>\n",
       "      <th>frutas</th>\n",
       "      <th>quantidade</th>\n",
       "    </tr>\n",
       "  </thead>\n",
       "  <tbody>\n",
       "    <tr>\n",
       "      <th>1</th>\n",
       "      <td>limão</td>\n",
       "      <td>7</td>\n",
       "    </tr>\n",
       "  </tbody>\n",
       "</table>\n",
       "</div>"
      ],
      "text/plain": [
       "  frutas  quantidade\n",
       "1  limão           7"
      ]
     },
     "execution_count": 50,
     "metadata": {},
     "output_type": "execute_result"
    }
   ],
   "source": [
    "dataset[dataset.frutas == 'limão']"
   ]
  },
  {
   "cell_type": "code",
   "execution_count": 51,
   "metadata": {},
   "outputs": [
    {
     "data": {
      "text/html": [
       "<div>\n",
       "<style scoped>\n",
       "    .dataframe tbody tr th:only-of-type {\n",
       "        vertical-align: middle;\n",
       "    }\n",
       "\n",
       "    .dataframe tbody tr th {\n",
       "        vertical-align: top;\n",
       "    }\n",
       "\n",
       "    .dataframe thead th {\n",
       "        text-align: right;\n",
       "    }\n",
       "</style>\n",
       "<table border=\"1\" class=\"dataframe\">\n",
       "  <thead>\n",
       "    <tr style=\"text-align: right;\">\n",
       "      <th></th>\n",
       "      <th>frutas</th>\n",
       "      <th>quantidade</th>\n",
       "    </tr>\n",
       "  </thead>\n",
       "  <tbody>\n",
       "    <tr>\n",
       "      <th>0</th>\n",
       "      <td>maracujá</td>\n",
       "      <td>3</td>\n",
       "    </tr>\n",
       "    <tr>\n",
       "      <th>1</th>\n",
       "      <td>limão</td>\n",
       "      <td>7</td>\n",
       "    </tr>\n",
       "  </tbody>\n",
       "</table>\n",
       "</div>"
      ],
      "text/plain": [
       "     frutas  quantidade\n",
       "0  maracujá           3\n",
       "1     limão           7"
      ]
     },
     "execution_count": 51,
     "metadata": {},
     "output_type": "execute_result"
    }
   ],
   "source": [
    "dataset"
   ]
  },
  {
   "cell_type": "code",
   "execution_count": 52,
   "metadata": {},
   "outputs": [
    {
     "name": "stdout",
     "output_type": "stream",
     "text": [
      "<class 'pandas.core.frame.DataFrame'>\n",
      "Int64Index: 2 entries, 0 to 1\n",
      "Data columns (total 2 columns):\n",
      " #   Column      Non-Null Count  Dtype \n",
      "---  ------      --------------  ----- \n",
      " 0   frutas      2 non-null      object\n",
      " 1   quantidade  2 non-null      int64 \n",
      "dtypes: int64(1), object(1)\n",
      "memory usage: 48.0+ bytes\n",
      "None\n"
     ]
    }
   ],
   "source": [
    "print(dataset.info()) "
   ]
  },
  {
   "cell_type": "markdown",
   "metadata": {},
   "source": [
    "# Exercicios"
   ]
  },
  {
   "cell_type": "markdown",
   "metadata": {},
   "source": [
    "### 1. Baixe o dataset [Acidentes de Trânsito no Recife](https://raw.githubusercontent.com/claudioalvesmonteiro/nice-data-repo/master/data/acidentes-transito-2016.csv) e crie um novo dataset apenas com casos COM VÍTIMA. Para baixar basta cliclar com o botão esquerdo na página e salvar como .csv.\n",
    "\n",
    "### 2. Com o mesmo dataset, crie um loop para contar quantos acidentes ocorreram no bairro BOA VIAGEM. \n",
    "\n",
    "### 3. Com o mesmo dataset, crie uma função que recebe como entrada o nome de um bairro e retorna a contagem de casos COM VÍTIMA que ocorreram no bairro.\n",
    "\n",
    "### 4. Com o mesmo dataset, crie uma nova coluna que identifica para cada acidente se ele ocorreu em uma rua, avenida ou em outro tipo de local.  "
   ]
  },
  {
   "cell_type": "code",
   "execution_count": 3,
   "metadata": {},
   "outputs": [
    {
     "data": {
      "text/html": [
       "<div>\n",
       "<style scoped>\n",
       "    .dataframe tbody tr th:only-of-type {\n",
       "        vertical-align: middle;\n",
       "    }\n",
       "\n",
       "    .dataframe tbody tr th {\n",
       "        vertical-align: top;\n",
       "    }\n",
       "\n",
       "    .dataframe thead th {\n",
       "        text-align: right;\n",
       "    }\n",
       "</style>\n",
       "<table border=\"1\" class=\"dataframe\">\n",
       "  <thead>\n",
       "    <tr style=\"text-align: right;\">\n",
       "      <th></th>\n",
       "      <th>tipo</th>\n",
       "      <th>situacao</th>\n",
       "      <th>data</th>\n",
       "      <th>hora</th>\n",
       "      <th>bairro</th>\n",
       "      <th>endereco</th>\n",
       "      <th>numero</th>\n",
       "      <th>complemento</th>\n",
       "      <th>natureza</th>\n",
       "      <th>descricao</th>\n",
       "      <th>auto</th>\n",
       "      <th>moto</th>\n",
       "      <th>ciclom</th>\n",
       "      <th>ciclista</th>\n",
       "      <th>pedestre</th>\n",
       "      <th>onibus</th>\n",
       "      <th>caminhao</th>\n",
       "      <th>viatura</th>\n",
       "      <th>outros</th>\n",
       "      <th>vitimas</th>\n",
       "    </tr>\n",
       "  </thead>\n",
       "  <tbody>\n",
       "    <tr>\n",
       "      <th>0</th>\n",
       "      <td>SEM VÍTIMA</td>\n",
       "      <td>FINALIZADA</td>\n",
       "      <td>2016-01-01</td>\n",
       "      <td>00:58</td>\n",
       "      <td>IPUTINGA</td>\n",
       "      <td>AV JORNALISTA POSSIDONIO CAVALCANTI BASTOS</td>\n",
       "      <td>NaN</td>\n",
       "      <td>PROX A PONTE DA SALVAÇAO</td>\n",
       "      <td>COLISÃO</td>\n",
       "      <td>COLISAO ENTRE UMA VIATUA E UM CAMINHAO S/V</td>\n",
       "      <td>01</td>\n",
       "      <td>N</td>\n",
       "      <td>N</td>\n",
       "      <td>N</td>\n",
       "      <td>N</td>\n",
       "      <td>N</td>\n",
       "      <td>1</td>\n",
       "      <td>N</td>\n",
       "      <td>N</td>\n",
       "      <td>0</td>\n",
       "    </tr>\n",
       "    <tr>\n",
       "      <th>1</th>\n",
       "      <td>SEM VÍTIMA</td>\n",
       "      <td>FINALIZADA</td>\n",
       "      <td>2016-01-01</td>\n",
       "      <td>01:23</td>\n",
       "      <td>BOA VIAGEM</td>\n",
       "      <td>AV ENGENHEIRO DOMINGOS FERREIRA</td>\n",
       "      <td>NaN</td>\n",
       "      <td>EM FRENTE AO SUPERMERCADO EXTRA,NO SEMAFORO 380</td>\n",
       "      <td>COLISÃO</td>\n",
       "      <td>COLISAO ENTRE DOIS AUTO S/V</td>\n",
       "      <td>2</td>\n",
       "      <td>N</td>\n",
       "      <td>N</td>\n",
       "      <td>N</td>\n",
       "      <td>N</td>\n",
       "      <td>N</td>\n",
       "      <td>N</td>\n",
       "      <td>N</td>\n",
       "      <td>N</td>\n",
       "      <td>0</td>\n",
       "    </tr>\n",
       "    <tr>\n",
       "      <th>2</th>\n",
       "      <td>SEM VÍTIMA</td>\n",
       "      <td>CANCELADA</td>\n",
       "      <td>2016-01-01</td>\n",
       "      <td>01:42</td>\n",
       "      <td>JORDÃO</td>\n",
       "      <td>RUA DR ALVARO FERRAZ</td>\n",
       "      <td>20</td>\n",
       "      <td>PROX A PRAÇA DO JORDAO DE BAIXO</td>\n",
       "      <td>COLISÃO</td>\n",
       "      <td>COLISAO ENTRE DOIS AUTO S/V</td>\n",
       "      <td>2</td>\n",
       "      <td>N</td>\n",
       "      <td>N</td>\n",
       "      <td>N</td>\n",
       "      <td>N</td>\n",
       "      <td>N</td>\n",
       "      <td>N</td>\n",
       "      <td>N</td>\n",
       "      <td>N</td>\n",
       "      <td>0</td>\n",
       "    </tr>\n",
       "    <tr>\n",
       "      <th>3</th>\n",
       "      <td>SEM VÍTIMA</td>\n",
       "      <td>FINALIZADA</td>\n",
       "      <td>2016-01-01</td>\n",
       "      <td>03:08</td>\n",
       "      <td>IBURA</td>\n",
       "      <td>AV JORNALISTA COSTA PORTO</td>\n",
       "      <td>1080</td>\n",
       "      <td>PROX A ASSEMBLEIA DE DEUS, SENTIDO ALTO DOIS C...</td>\n",
       "      <td>COLISÃO</td>\n",
       "      <td>COLISAO ENTRE DOIS CARROS S/V</td>\n",
       "      <td>2</td>\n",
       "      <td>N</td>\n",
       "      <td>N</td>\n",
       "      <td>N</td>\n",
       "      <td>N</td>\n",
       "      <td>N</td>\n",
       "      <td>N</td>\n",
       "      <td>N</td>\n",
       "      <td>N</td>\n",
       "      <td>0</td>\n",
       "    </tr>\n",
       "    <tr>\n",
       "      <th>4</th>\n",
       "      <td>ENTRADA E SAÍDA</td>\n",
       "      <td>EM ABERTO</td>\n",
       "      <td>2016-01-01</td>\n",
       "      <td>05:22</td>\n",
       "      <td>IMBIRIBEIRA</td>\n",
       "      <td>AV LUXEMBURGO</td>\n",
       "      <td>356</td>\n",
       "      <td>APOS A ESCOLA BEATO EUGENIO</td>\n",
       "      <td>ENTRADA E SAÍDA</td>\n",
       "      <td>ART 181</td>\n",
       "      <td>1</td>\n",
       "      <td>NaN</td>\n",
       "      <td>NaN</td>\n",
       "      <td>NaN</td>\n",
       "      <td>NaN</td>\n",
       "      <td>NaN</td>\n",
       "      <td>NaN</td>\n",
       "      <td>NaN</td>\n",
       "      <td>NaN</td>\n",
       "      <td>0</td>\n",
       "    </tr>\n",
       "  </tbody>\n",
       "</table>\n",
       "</div>"
      ],
      "text/plain": [
       "              tipo    situacao        data   hora       bairro  \\\n",
       "0       SEM VÍTIMA  FINALIZADA  2016-01-01  00:58     IPUTINGA   \n",
       "1       SEM VÍTIMA  FINALIZADA  2016-01-01  01:23   BOA VIAGEM   \n",
       "2       SEM VÍTIMA   CANCELADA  2016-01-01  01:42       JORDÃO   \n",
       "3       SEM VÍTIMA  FINALIZADA  2016-01-01  03:08        IBURA   \n",
       "4  ENTRADA E SAÍDA   EM ABERTO  2016-01-01  05:22  IMBIRIBEIRA   \n",
       "\n",
       "                                     endereco numero  \\\n",
       "0  AV JORNALISTA POSSIDONIO CAVALCANTI BASTOS    NaN   \n",
       "1             AV ENGENHEIRO DOMINGOS FERREIRA    NaN   \n",
       "2                        RUA DR ALVARO FERRAZ     20   \n",
       "3                   AV JORNALISTA COSTA PORTO   1080   \n",
       "4                               AV LUXEMBURGO    356   \n",
       "\n",
       "                                         complemento         natureza  \\\n",
       "0                           PROX A PONTE DA SALVAÇAO          COLISÃO   \n",
       "1    EM FRENTE AO SUPERMERCADO EXTRA,NO SEMAFORO 380          COLISÃO   \n",
       "2                    PROX A PRAÇA DO JORDAO DE BAIXO          COLISÃO   \n",
       "3  PROX A ASSEMBLEIA DE DEUS, SENTIDO ALTO DOIS C...          COLISÃO   \n",
       "4                        APOS A ESCOLA BEATO EUGENIO  ENTRADA E SAÍDA   \n",
       "\n",
       "                                    descricao auto moto ciclom ciclista  \\\n",
       "0  COLISAO ENTRE UMA VIATUA E UM CAMINHAO S/V   01    N      N        N   \n",
       "1                 COLISAO ENTRE DOIS AUTO S/V    2    N      N        N   \n",
       "2                 COLISAO ENTRE DOIS AUTO S/V    2    N      N        N   \n",
       "3               COLISAO ENTRE DOIS CARROS S/V    2    N      N        N   \n",
       "4                                     ART 181    1  NaN    NaN      NaN   \n",
       "\n",
       "  pedestre onibus caminhao viatura outros vitimas  \n",
       "0        N      N        1       N      N       0  \n",
       "1        N      N        N       N      N       0  \n",
       "2        N      N        N       N      N       0  \n",
       "3        N      N        N       N      N       0  \n",
       "4      NaN    NaN      NaN     NaN    NaN       0  "
      ]
     },
     "execution_count": 3,
     "metadata": {},
     "output_type": "execute_result"
    }
   ],
   "source": [
    "# Exercício 1\n",
    "\n",
    "# Passo 1: ver dataset\n",
    "import pandas as pd\n",
    "\n",
    "df = pd.read_csv('acidentes-transito-2016.csv', sep=';') # Without sep=';' I was getting:\n",
    "#ParserError: Error tokenizing data. C error: Expected 1 fields in line 3, saw 2\n",
    "df.head()"
   ]
  },
  {
   "cell_type": "code",
   "execution_count": 4,
   "metadata": {},
   "outputs": [
    {
     "data": {
      "text/html": [
       "<div>\n",
       "<style scoped>\n",
       "    .dataframe tbody tr th:only-of-type {\n",
       "        vertical-align: middle;\n",
       "    }\n",
       "\n",
       "    .dataframe tbody tr th {\n",
       "        vertical-align: top;\n",
       "    }\n",
       "\n",
       "    .dataframe thead th {\n",
       "        text-align: right;\n",
       "    }\n",
       "</style>\n",
       "<table border=\"1\" class=\"dataframe\">\n",
       "  <thead>\n",
       "    <tr style=\"text-align: right;\">\n",
       "      <th></th>\n",
       "      <th>tipo</th>\n",
       "      <th>situacao</th>\n",
       "      <th>data</th>\n",
       "      <th>hora</th>\n",
       "      <th>bairro</th>\n",
       "      <th>endereco</th>\n",
       "      <th>numero</th>\n",
       "      <th>complemento</th>\n",
       "      <th>natureza</th>\n",
       "      <th>descricao</th>\n",
       "      <th>auto</th>\n",
       "      <th>moto</th>\n",
       "      <th>ciclom</th>\n",
       "      <th>ciclista</th>\n",
       "      <th>pedestre</th>\n",
       "      <th>onibus</th>\n",
       "      <th>caminhao</th>\n",
       "      <th>viatura</th>\n",
       "      <th>outros</th>\n",
       "      <th>vitimas</th>\n",
       "    </tr>\n",
       "  </thead>\n",
       "  <tbody>\n",
       "    <tr>\n",
       "      <th>5</th>\n",
       "      <td>COM VÍTIMA</td>\n",
       "      <td>CANCELADA</td>\n",
       "      <td>2016-01-01</td>\n",
       "      <td>05:34</td>\n",
       "      <td>PAISSANDU</td>\n",
       "      <td>AV GOVERNADOR AGAMENON MAGALHAES</td>\n",
       "      <td>NaN</td>\n",
       "      <td>EM FRENTE AO EDFICIO EMPRESARIAL ISACK NILTON,...</td>\n",
       "      <td>CHOQUE</td>\n",
       "      <td>MOTO CHOCOU-SE CONTRA A CALÇADA, COM VITIMA</td>\n",
       "      <td>NaN</td>\n",
       "      <td>1</td>\n",
       "      <td>NaN</td>\n",
       "      <td>NaN</td>\n",
       "      <td>NaN</td>\n",
       "      <td>NaN</td>\n",
       "      <td>NaN</td>\n",
       "      <td>NaN</td>\n",
       "      <td>NaN</td>\n",
       "      <td>1</td>\n",
       "    </tr>\n",
       "    <tr>\n",
       "      <th>6</th>\n",
       "      <td>COM VÍTIMA</td>\n",
       "      <td>FINALIZADA</td>\n",
       "      <td>2016-01-01</td>\n",
       "      <td>07:26</td>\n",
       "      <td>CABANGA</td>\n",
       "      <td>AV SUL</td>\n",
       "      <td>NaN</td>\n",
       "      <td>NO SEMAFORO N260</td>\n",
       "      <td>COLISÃO</td>\n",
       "      <td>COL.C/V,SET.CD</td>\n",
       "      <td>1</td>\n",
       "      <td>1</td>\n",
       "      <td>NaN</td>\n",
       "      <td>NaN</td>\n",
       "      <td>NaN</td>\n",
       "      <td>NaN</td>\n",
       "      <td>NaN</td>\n",
       "      <td>NaN</td>\n",
       "      <td>NaN</td>\n",
       "      <td>1</td>\n",
       "    </tr>\n",
       "    <tr>\n",
       "      <th>10</th>\n",
       "      <td>COM VÍTIMA</td>\n",
       "      <td>FINALIZADA</td>\n",
       "      <td>2016-01-01</td>\n",
       "      <td>08:35</td>\n",
       "      <td>BOA VIAGEM</td>\n",
       "      <td>AV ENGENHEIRO DOMINGOS FERREIRA</td>\n",
       "      <td>NaN</td>\n",
       "      <td>SEMAFORO 142,CRUZAMENTO DA CLINICAL CENTER</td>\n",
       "      <td>COLISÃO</td>\n",
       "      <td>COLISÃO COM VITIMA,AQUARDANDO SAMU</td>\n",
       "      <td>NaN</td>\n",
       "      <td>1</td>\n",
       "      <td>NaN</td>\n",
       "      <td>NaN</td>\n",
       "      <td>NaN</td>\n",
       "      <td>NaN</td>\n",
       "      <td>NaN</td>\n",
       "      <td>1</td>\n",
       "      <td>NaN</td>\n",
       "      <td>1</td>\n",
       "    </tr>\n",
       "    <tr>\n",
       "      <th>21</th>\n",
       "      <td>COM VÍTIMA</td>\n",
       "      <td>FINALIZADA</td>\n",
       "      <td>2016-01-01</td>\n",
       "      <td>18:30</td>\n",
       "      <td>JAQUEIRA</td>\n",
       "      <td>AV RUI BARBOSA</td>\n",
       "      <td>X</td>\n",
       "      <td>EM FRENTE AO PARQUE DA JAQUEIRA</td>\n",
       "      <td>COLISÃO</td>\n",
       "      <td>COLISÃO ENTRE QUATRO AUTO, SEGUINTE DE UM CAPO...</td>\n",
       "      <td>4</td>\n",
       "      <td>NaN</td>\n",
       "      <td>NaN</td>\n",
       "      <td>NaN</td>\n",
       "      <td>NaN</td>\n",
       "      <td>NaN</td>\n",
       "      <td>NaN</td>\n",
       "      <td>NaN</td>\n",
       "      <td>NaN</td>\n",
       "      <td>1</td>\n",
       "    </tr>\n",
       "    <tr>\n",
       "      <th>26</th>\n",
       "      <td>COM VÍTIMA</td>\n",
       "      <td>FINALIZADA</td>\n",
       "      <td>2016-01-01</td>\n",
       "      <td>23:09</td>\n",
       "      <td>BEBERIBE</td>\n",
       "      <td>AV BEBERIBE</td>\n",
       "      <td>4510</td>\n",
       "      <td>NO POSTO DE SAUDE DE BEBERIBE</td>\n",
       "      <td>ATROPELAMENTO</td>\n",
       "      <td>VEICULO SOBE CALÇADA E PEGA PEDESTRE QUEBRANDO...</td>\n",
       "      <td>1</td>\n",
       "      <td>NaN</td>\n",
       "      <td>NaN</td>\n",
       "      <td>NaN</td>\n",
       "      <td>1</td>\n",
       "      <td>NaN</td>\n",
       "      <td>NaN</td>\n",
       "      <td>6</td>\n",
       "      <td>NaN</td>\n",
       "      <td>1</td>\n",
       "    </tr>\n",
       "  </tbody>\n",
       "</table>\n",
       "</div>"
      ],
      "text/plain": [
       "          tipo    situacao        data   hora      bairro  \\\n",
       "5   COM VÍTIMA   CANCELADA  2016-01-01  05:34   PAISSANDU   \n",
       "6   COM VÍTIMA  FINALIZADA  2016-01-01  07:26     CABANGA   \n",
       "10  COM VÍTIMA  FINALIZADA  2016-01-01  08:35  BOA VIAGEM   \n",
       "21  COM VÍTIMA  FINALIZADA  2016-01-01  18:30    JAQUEIRA   \n",
       "26  COM VÍTIMA  FINALIZADA  2016-01-01  23:09    BEBERIBE   \n",
       "\n",
       "                            endereco numero  \\\n",
       "5   AV GOVERNADOR AGAMENON MAGALHAES    NaN   \n",
       "6                             AV SUL    NaN   \n",
       "10   AV ENGENHEIRO DOMINGOS FERREIRA    NaN   \n",
       "21                    AV RUI BARBOSA      X   \n",
       "26                       AV BEBERIBE   4510   \n",
       "\n",
       "                                          complemento       natureza  \\\n",
       "5   EM FRENTE AO EDFICIO EMPRESARIAL ISACK NILTON,...         CHOQUE   \n",
       "6                                    NO SEMAFORO N260        COLISÃO   \n",
       "10         SEMAFORO 142,CRUZAMENTO DA CLINICAL CENTER        COLISÃO   \n",
       "21                    EM FRENTE AO PARQUE DA JAQUEIRA        COLISÃO   \n",
       "26                     NO POSTO DE SAUDE DE BEBERIBE   ATROPELAMENTO   \n",
       "\n",
       "                                            descricao auto moto ciclom  \\\n",
       "5         MOTO CHOCOU-SE CONTRA A CALÇADA, COM VITIMA  NaN    1    NaN   \n",
       "6                                      COL.C/V,SET.CD    1    1    NaN   \n",
       "10                 COLISÃO COM VITIMA,AQUARDANDO SAMU  NaN    1    NaN   \n",
       "21  COLISÃO ENTRE QUATRO AUTO, SEGUINTE DE UM CAPO...    4  NaN    NaN   \n",
       "26  VEICULO SOBE CALÇADA E PEGA PEDESTRE QUEBRANDO...    1  NaN    NaN   \n",
       "\n",
       "   ciclista pedestre onibus caminhao viatura outros vitimas  \n",
       "5       NaN      NaN    NaN      NaN     NaN    NaN       1  \n",
       "6       NaN      NaN    NaN      NaN     NaN    NaN       1  \n",
       "10      NaN      NaN    NaN      NaN       1    NaN       1  \n",
       "21      NaN      NaN    NaN      NaN     NaN    NaN       1  \n",
       "26      NaN        1    NaN      NaN       6    NaN       1  "
      ]
     },
     "execution_count": 4,
     "metadata": {},
     "output_type": "execute_result"
    }
   ],
   "source": [
    "#Passo 2: Filtrar banco e criar novo dataset só com casos \"com vítima\"\n",
    "\n",
    "df1 = df[df.tipo == 'COM VÍTIMA']\n",
    "df1.head()"
   ]
  },
  {
   "cell_type": "code",
   "execution_count": 38,
   "metadata": {},
   "outputs": [
    {
     "name": "stdout",
     "output_type": "stream",
     "text": [
      "<class 'pandas.core.frame.DataFrame'>\n",
      "RangeIndex: 17798 entries, 0 to 17797\n",
      "Data columns (total 20 columns):\n",
      " #   Column       Non-Null Count  Dtype \n",
      "---  ------       --------------  ----- \n",
      " 0   tipo         17771 non-null  object\n",
      " 1   situacao     17797 non-null  object\n",
      " 2   data         17798 non-null  object\n",
      " 3   hora         17788 non-null  object\n",
      " 4   bairro       17691 non-null  object\n",
      " 5   endereco     17627 non-null  object\n",
      " 6   numero       7949 non-null   object\n",
      " 7   complemento  17573 non-null  object\n",
      " 8   natureza     17697 non-null  object\n",
      " 9   descricao    17271 non-null  object\n",
      " 10  auto         10900 non-null  object\n",
      " 11  moto         2816 non-null   object\n",
      " 12  ciclom       320 non-null    object\n",
      " 13  ciclista     195 non-null    object\n",
      " 14  pedestre     450 non-null    object\n",
      " 15  onibus       1522 non-null   object\n",
      " 16  caminhao     1128 non-null   object\n",
      " 17  viatura      176 non-null    object\n",
      " 18  outros       1968 non-null   object\n",
      " 19  vitimas      15326 non-null  object\n",
      "dtypes: object(20)\n",
      "memory usage: 2.7+ MB\n"
     ]
    }
   ],
   "source": [
    "# Exercício 2\n",
    "\n",
    "# Check df\n",
    "df.info()"
   ]
  },
  {
   "cell_type": "code",
   "execution_count": 55,
   "metadata": {},
   "outputs": [
    {
     "name": "stdout",
     "output_type": "stream",
     "text": [
      "2905\n"
     ]
    }
   ],
   "source": [
    "# Exercício 2 - Cont - TENTATIVA 1\n",
    "\n",
    "# Loop para contar casos que ocorreram em Boa Viagem\n",
    "\n",
    "count = 0 \n",
    "for i in range(len(df.bairro)):\n",
    "    if df.bairro[i] == 'BOA VIAGEM':\n",
    "        count = count + 1 # também poderia ser 'count += 1' que é uma abreviação - o += soma o que tpa do lado direito\n",
    "\n",
    "print(count)"
   ]
  },
  {
   "cell_type": "code",
   "execution_count": 64,
   "metadata": {},
   "outputs": [],
   "source": [
    "# Exercício 3 \n",
    "\n",
    "# Definir função \n",
    "\n",
    "def funcao(nome_bairro):\n",
    "    ''' Função que recebe como entrada o nome de um bairro e retorna a contagem de casos COM VÍTIMA que ocorreram no bairro.\n",
    "    '''\n",
    "\n",
    "    df1 = df[df.tipo == 'COM VÍTIMA']\n",
    "\n",
    "    count = 0 \n",
    "    for i in df1.bairro:\n",
    "        if i == nome_bairro:\n",
    "            count = count + 1\n",
    "    return count\n",
    "\n",
    "    #não precisa colocar range(len) porque não precisa acessar o index aqui, só ia deixar o código mais complexo\n",
    "    #para usar o range, precisa por o (i)\n"
   ]
  },
  {
   "cell_type": "code",
   "execution_count": 66,
   "metadata": {},
   "outputs": [
    {
     "data": {
      "text/plain": [
       "227"
      ]
     },
     "execution_count": 66,
     "metadata": {},
     "output_type": "execute_result"
    }
   ],
   "source": [
    "# Executar função\n",
    "\n",
    "funcao('BOA VIAGEM')"
   ]
  },
  {
   "cell_type": "code",
   "execution_count": 67,
   "metadata": {},
   "outputs": [],
   "source": [
    "df.dropna(subset=['endereco'], inplace=True) #funcao que exclui na (dropna) da coluna endereco (subset) - \n",
    "#inplace=TRUE significa vai salvar no proprio banco"
   ]
  },
  {
   "cell_type": "code",
   "execution_count": 68,
   "metadata": {},
   "outputs": [],
   "source": [
    "# Exercício 4\n",
    "\n",
    "# Visualize df\n",
    "df.head()\n",
    "\n",
    "# Lista que identifica para cada acidente se ele ocorreu em uma rua, avenida ou em outro tipo de local.  \n",
    "\n",
    "local_acidente = []\n",
    "for end in df.endereco:\n",
    "    if 'AV' in end: \n",
    "       novo_end = 'avenida' #atribui uma nova coluna que dá esse valor se for avenida\n",
    "    elif 'RUA' in end:\n",
    "        novo_end = 'rua'\n",
    "    else:\n",
    "        novo_end = 'outro'\n",
    "    \n",
    "    local_acidente.append(novo_end)\n",
    "\n",
    "# Adicionar nova lista como coluna\n",
    "df['local_acidente'] = local_acidente\n"
   ]
  },
  {
   "cell_type": "code",
   "execution_count": 69,
   "metadata": {},
   "outputs": [
    {
     "data": {
      "text/plain": [
       "0        avenida\n",
       "1        avenida\n",
       "2            rua\n",
       "3        avenida\n",
       "4        avenida\n",
       "          ...   \n",
       "17793    avenida\n",
       "17794        rua\n",
       "17795        rua\n",
       "17796    avenida\n",
       "17797    avenida\n",
       "Name: local_acidente, Length: 17627, dtype: object"
      ]
     },
     "execution_count": 69,
     "metadata": {},
     "output_type": "execute_result"
    }
   ],
   "source": [
    "df['local_acidente']"
   ]
  }
 ],
 "metadata": {
  "interpreter": {
   "hash": "b3ba2566441a7c06988d0923437866b63cedc61552a5af99d1f4fb67d367b25f"
  },
  "kernelspec": {
   "display_name": "Python 3.8.8 64-bit ('base': conda)",
   "name": "python3"
  },
  "language_info": {
   "codemirror_mode": {
    "name": "ipython",
    "version": 3
   },
   "file_extension": ".py",
   "mimetype": "text/x-python",
   "name": "python",
   "nbconvert_exporter": "python",
   "pygments_lexer": "ipython3",
   "version": "3.8.8"
  }
 },
 "nbformat": 4,
 "nbformat_minor": 2
}
