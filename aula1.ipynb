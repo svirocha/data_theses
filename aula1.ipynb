{
 "cells": [
  {
   "cell_type": "markdown",
   "source": [
    "# Introdução a Python para Análise de Dados"
   ],
   "metadata": {}
  },
  {
   "cell_type": "markdown",
   "source": [
    "## 1. Operações Básicas "
   ],
   "metadata": {}
  },
  {
   "cell_type": "code",
   "execution_count": 1,
   "source": [
    "# soma\r\n",
    "1 + 1"
   ],
   "outputs": [
    {
     "output_type": "execute_result",
     "data": {
      "text/plain": [
       "2"
      ]
     },
     "metadata": {},
     "execution_count": 1
    }
   ],
   "metadata": {}
  },
  {
   "cell_type": "code",
   "execution_count": 2,
   "source": [
    "# subtracao\r\n",
    "1 - 1"
   ],
   "outputs": [
    {
     "output_type": "execute_result",
     "data": {
      "text/plain": [
       "0"
      ]
     },
     "metadata": {},
     "execution_count": 2
    }
   ],
   "metadata": {}
  },
  {
   "cell_type": "code",
   "execution_count": 3,
   "source": [
    "# Divisao\r\n",
    "22 / 2"
   ],
   "outputs": [
    {
     "output_type": "execute_result",
     "data": {
      "text/plain": [
       "11.0"
      ]
     },
     "metadata": {},
     "execution_count": 3
    }
   ],
   "metadata": {}
  },
  {
   "cell_type": "code",
   "execution_count": 4,
   "source": [
    "# multiplicacao\r\n",
    "3 * 5"
   ],
   "outputs": [
    {
     "output_type": "execute_result",
     "data": {
      "text/plain": [
       "15"
      ]
     },
     "metadata": {},
     "execution_count": 4
    }
   ],
   "metadata": {}
  },
  {
   "cell_type": "code",
   "execution_count": 5,
   "source": [
    "# Potencia\r\n",
    "2 ** 3"
   ],
   "outputs": [
    {
     "output_type": "execute_result",
     "data": {
      "text/plain": [
       "8"
      ]
     },
     "metadata": {},
     "execution_count": 5
    }
   ],
   "metadata": {}
  },
  {
   "cell_type": "code",
   "execution_count": 6,
   "source": [
    "# expressao\r\n",
    "(2 + 3) * 5"
   ],
   "outputs": [
    {
     "output_type": "execute_result",
     "data": {
      "text/plain": [
       "25"
      ]
     },
     "metadata": {},
     "execution_count": 6
    }
   ],
   "metadata": {}
  },
  {
   "cell_type": "code",
   "execution_count": 7,
   "source": [
    "# expressao\r\n",
    "(5 - 1) * ((7 + 1) / (3 - 1))"
   ],
   "outputs": [
    {
     "output_type": "execute_result",
     "data": {
      "text/plain": [
       "16.0"
      ]
     },
     "metadata": {},
     "execution_count": 7
    }
   ],
   "metadata": {}
  },
  {
   "cell_type": "markdown",
   "source": [
    "## 2. Tipos de Dados"
   ],
   "metadata": {}
  },
  {
   "cell_type": "code",
   "execution_count": 8,
   "source": [
    "# Interger\r\n",
    "type(1)"
   ],
   "outputs": [
    {
     "output_type": "execute_result",
     "data": {
      "text/plain": [
       "int"
      ]
     },
     "metadata": {},
     "execution_count": 8
    }
   ],
   "metadata": {}
  },
  {
   "cell_type": "code",
   "execution_count": 9,
   "source": [
    "# Float point\r\n",
    "type(1.0)"
   ],
   "outputs": [
    {
     "output_type": "execute_result",
     "data": {
      "text/plain": [
       "float"
      ]
     },
     "metadata": {},
     "execution_count": 9
    }
   ],
   "metadata": {}
  },
  {
   "cell_type": "code",
   "execution_count": 10,
   "source": [
    "# String\r\n",
    "type('Bom dia!')"
   ],
   "outputs": [
    {
     "output_type": "execute_result",
     "data": {
      "text/plain": [
       "str"
      ]
     },
     "metadata": {},
     "execution_count": 10
    }
   ],
   "metadata": {}
  },
  {
   "cell_type": "markdown",
   "source": [
    "## 3. Trabalhando com Variáveis\r\n",
    "Variáveis são objetos que armazenam informações e precisam seguir o padrão:\r\n",
    "* Sem infén (var-1)\r\n",
    "* Sem espaço (var 1)\r\n",
    "* Não deve começar com numero (1var)\r\n",
    "* Carcteres espciais não são permitidos (var$1, 'var1')\r\n"
   ],
   "metadata": {}
  },
  {
   "cell_type": "code",
   "execution_count": 11,
   "source": [
    "var1 = 5\r\n",
    "print(var1)"
   ],
   "outputs": [
    {
     "output_type": "stream",
     "name": "stdout",
     "text": [
      "5\n"
     ]
    }
   ],
   "metadata": {}
  },
  {
   "cell_type": "markdown",
   "source": [
    "## 4. Operações Condicionais"
   ],
   "metadata": {}
  },
  {
   "cell_type": "code",
   "execution_count": 12,
   "source": [
    "# igual\r\n",
    "print(42 == 42)\r\n",
    "print(32 == 9)"
   ],
   "outputs": [
    {
     "output_type": "stream",
     "name": "stdout",
     "text": [
      "True\n",
      "False\n"
     ]
    }
   ],
   "metadata": {}
  },
  {
   "cell_type": "code",
   "execution_count": 13,
   "source": [
    "# diferente\r\n",
    "print(10 != 12)\r\n",
    "print('maria' != 'maria')"
   ],
   "outputs": [
    {
     "output_type": "stream",
     "name": "stdout",
     "text": [
      "True\n",
      "False\n"
     ]
    }
   ],
   "metadata": {}
  },
  {
   "cell_type": "code",
   "execution_count": 14,
   "source": [
    "# maior que\r\n",
    "print(3 > 0)\r\n",
    "print('test' > 'teste')"
   ],
   "outputs": [
    {
     "output_type": "stream",
     "name": "stdout",
     "text": [
      "True\n",
      "False\n"
     ]
    }
   ],
   "metadata": {}
  },
  {
   "cell_type": "code",
   "execution_count": 15,
   "source": [
    "# menor que\r\n",
    "print(10 < 5)\r\n",
    "print(5 < 10)"
   ],
   "outputs": [
    {
     "output_type": "stream",
     "name": "stdout",
     "text": [
      "False\n",
      "True\n"
     ]
    }
   ],
   "metadata": {}
  },
  {
   "cell_type": "code",
   "execution_count": 16,
   "source": [
    "# and\r\n",
    "print(True and True)\r\n",
    "print(False and False)\r\n",
    "print(True & True)"
   ],
   "outputs": [
    {
     "output_type": "stream",
     "name": "stdout",
     "text": [
      "True\n",
      "False\n",
      "True\n"
     ]
    }
   ],
   "metadata": {}
  },
  {
   "cell_type": "markdown",
   "source": [
    "Usar o 'and' em condições dentro de um 'if', por exemplo. Usar '&' em condições dentro do pandas."
   ],
   "metadata": {}
  },
  {
   "cell_type": "code",
   "execution_count": 17,
   "source": [
    "# or\r\n",
    "print(False or False)\r\n",
    "print(True or False)\r\n",
    "print(True | False)"
   ],
   "outputs": [
    {
     "output_type": "stream",
     "name": "stdout",
     "text": [
      "False\n",
      "True\n",
      "True\n"
     ]
    }
   ],
   "metadata": {}
  },
  {
   "cell_type": "markdown",
   "source": [
    "Usar o 'or' em condições dentro de um 'if', por exemplo. Usar '|' em condições dentro do pandas."
   ],
   "metadata": {}
  },
  {
   "cell_type": "code",
   "execution_count": 18,
   "source": [
    "# not\r\n",
    "print(not True)\r\n",
    "print(not False)"
   ],
   "outputs": [
    {
     "output_type": "stream",
     "name": "stdout",
     "text": [
      "False\n",
      "True\n"
     ]
    }
   ],
   "metadata": {}
  },
  {
   "cell_type": "markdown",
   "source": [
    "## 5. Controle de Fluxo (flow control statements)"
   ],
   "metadata": {}
  },
  {
   "cell_type": "markdown",
   "source": [
    "Sempre prestar atenção na identação"
   ],
   "metadata": {}
  },
  {
   "cell_type": "code",
   "execution_count": 19,
   "source": [
    "# if\r\n",
    "if 1 > 0:\r\n",
    "    print('1 maior que 0')"
   ],
   "outputs": [
    {
     "output_type": "stream",
     "name": "stdout",
     "text": [
      "1 maior que 0\n"
     ]
    }
   ],
   "metadata": {}
  },
  {
   "cell_type": "code",
   "execution_count": 20,
   "source": [
    "if 50 > 60:\r\n",
    "    print('50 maior que 60')"
   ],
   "outputs": [],
   "metadata": {}
  },
  {
   "cell_type": "code",
   "execution_count": 21,
   "source": [
    "# else\r\n",
    "if 2 == 2:\r\n",
    "    print('2 igual a 2')\r\n",
    "else:\r\n",
    "    print('2 não é igual a 2')"
   ],
   "outputs": [
    {
     "output_type": "stream",
     "name": "stdout",
     "text": [
      "2 igual a 2\n"
     ]
    }
   ],
   "metadata": {}
  },
  {
   "cell_type": "code",
   "execution_count": 22,
   "source": [
    "# elif\r\n",
    "if 2 > 2:\r\n",
    "    print('2 maior que 2')\r\n",
    "elif 2 < 2:\r\n",
    "    print('2 menor que 2')\r\n",
    "else:\r\n",
    "    print('2 igual a 2')"
   ],
   "outputs": [
    {
     "output_type": "stream",
     "name": "stdout",
     "text": [
      "2 igual a 2\n"
     ]
    }
   ],
   "metadata": {}
  },
  {
   "cell_type": "code",
   "execution_count": 23,
   "source": [
    "# while\r\n",
    "count = 0\r\n",
    "while count < 5:\r\n",
    "    print(count)\r\n",
    "    count = count + 1"
   ],
   "outputs": [
    {
     "output_type": "stream",
     "name": "stdout",
     "text": [
      "0\n",
      "1\n",
      "2\n",
      "3\n",
      "4\n"
     ]
    }
   ],
   "metadata": {}
  },
  {
   "cell_type": "code",
   "execution_count": 24,
   "source": [
    "# for e range()\r\n",
    "for i in range(5):\r\n",
    "    print(i) "
   ],
   "outputs": [
    {
     "output_type": "stream",
     "name": "stdout",
     "text": [
      "0\n",
      "1\n",
      "2\n",
      "3\n",
      "4\n"
     ]
    }
   ],
   "metadata": {}
  },
  {
   "cell_type": "code",
   "execution_count": 25,
   "source": [
    "for qlq_nome in range(6):\r\n",
    "    print(qlq_nome)"
   ],
   "outputs": [
    {
     "output_type": "stream",
     "name": "stdout",
     "text": [
      "0\n",
      "1\n",
      "2\n",
      "3\n",
      "4\n",
      "5\n"
     ]
    }
   ],
   "metadata": {}
  },
  {
   "cell_type": "markdown",
   "source": [
    "## 6. Funções"
   ],
   "metadata": {}
  },
  {
   "cell_type": "code",
   "execution_count": 26,
   "source": [
    "# definindo funcao\r\n",
    "def funcao1(numero, numero2):\r\n",
    "    numero_novo = numero + numero2\r\n",
    "    return numero_novo"
   ],
   "outputs": [],
   "metadata": {}
  },
  {
   "cell_type": "code",
   "execution_count": 27,
   "source": [
    "# executando funcao\r\n",
    "funcao1(5, 10)"
   ],
   "outputs": [
    {
     "output_type": "execute_result",
     "data": {
      "text/plain": [
       "15"
      ]
     },
     "metadata": {},
     "execution_count": 27
    }
   ],
   "metadata": {}
  },
  {
   "cell_type": "code",
   "execution_count": 28,
   "source": [
    "# documentacao da funcao\r\n",
    "def funcao1(numero):\r\n",
    "    ''' funcao que recebe um numero\r\n",
    "        e retorna o numero mais um\r\n",
    "    '''\r\n",
    "    numero_novo = numero + 1\r\n",
    "    return numero_novo"
   ],
   "outputs": [],
   "metadata": {}
  },
  {
   "cell_type": "code",
   "execution_count": 29,
   "source": [
    "def funcao2(num_a, num_b):\r\n",
    "    ''' recebe dois numeros, \r\n",
    "        eleva o primeiro a potencia do segundo\r\n",
    "        retorna se o numero resultante e menor que 1000\r\n",
    "    '''\r\n",
    "    num_c = num_a**num_b\r\n",
    "    if num_c < 1000:\r\n",
    "        return True\r\n",
    "    else:\r\n",
    "        return False"
   ],
   "outputs": [],
   "metadata": {}
  },
  {
   "cell_type": "code",
   "execution_count": 30,
   "source": [
    "funcao2(10, 2)"
   ],
   "outputs": [
    {
     "output_type": "execute_result",
     "data": {
      "text/plain": [
       "True"
      ]
     },
     "metadata": {},
     "execution_count": 30
    }
   ],
   "metadata": {}
  },
  {
   "cell_type": "markdown",
   "source": [
    "## 7. Exercicios \r\n",
    "\r\n",
    "## Atenção! Não vale procurar a solução na internet. A ideia aqui é exercitar o pensamento algoritimíco, em que você traça uma solução baseada no que foi visto até o momento. \r\n",
    "\r\n",
    "7.1 Crie e execute uma função que recebe um número qualquer e retorna a soma de todos os números de 1 até o número recebido. Ex: recebe 5 e retorna 1+2+3+4+5.\r\n",
    "\r\n",
    "7.2 Faça uma função que recebe dois números, base e expoente, calcula e mostra o primeiro número elevado ao segundo número. Não utilize a função de potência da linguagem.\r\n",
    "\r\n",
    "7.3 Crie e execute uma função que mostra a sequência de Fibonacci até 20 termos. O número seguinte é encontrado a partir da soma dos dois números anteriores. Primeiros 10 termos da sequência de Fibonacci: 0  1  1  2  3  5  8  13  21  34. \r\n",
    "\r\n",
    "7.4 Supondo que a população de um país A seja da ordem de 80000 habitantes com uma taxa anual de crescimento de 3% e que a população de B seja 200000 habitantes com uma taxa de crescimento de 1.5%. Faça uma função que calcula e retorna o número de anos necessários para que a população do país A ultrapasse ou iguale a população do país B, mantidas as taxas de crescimento."
   ],
   "metadata": {}
  },
  {
   "cell_type": "markdown",
   "source": [
    "## 8. Material Extra\r\n",
    "\r\n",
    "* https://www.datacamp.com/\r\n",
    "* https://docs.python.org/3/tutorial/index.html\r\n",
    "* https://panda.ime.usp.br/cc110/static/cc110/index.html"
   ],
   "metadata": {}
  },
  {
   "cell_type": "markdown",
   "source": [],
   "metadata": {}
  }
 ],
 "metadata": {
  "kernelspec": {
   "name": "python3",
   "display_name": "Python 3.9.7 64-bit (windows store)"
  },
  "language_info": {
   "codemirror_mode": {
    "name": "ipython",
    "version": 3
   },
   "file_extension": ".py",
   "mimetype": "text/x-python",
   "name": "python",
   "nbconvert_exporter": "python",
   "pygments_lexer": "ipython3",
   "version": "3.9.7"
  },
  "interpreter": {
   "hash": "71e986ee22815c980f42d5d0306cb35536cc658b566120a91f515f6dd984206f"
  }
 },
 "nbformat": 4,
 "nbformat_minor": 2
}