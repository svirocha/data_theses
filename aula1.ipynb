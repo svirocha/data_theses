{
 "cells": [
  {
   "cell_type": "markdown",
   "metadata": {},
   "source": [
    "# Introdução a Python para Análise de Dados"
   ]
  },
  {
   "cell_type": "markdown",
   "metadata": {},
   "source": [
    "## 1. Operações Básicas "
   ]
  },
  {
   "cell_type": "code",
   "execution_count": 1,
   "metadata": {},
   "outputs": [
    {
     "data": {
      "text/plain": [
       "2"
      ]
     },
     "execution_count": 1,
     "metadata": {},
     "output_type": "execute_result"
    }
   ],
   "source": [
    "# soma\n",
    "1 + 1"
   ]
  },
  {
   "cell_type": "code",
   "execution_count": 2,
   "metadata": {},
   "outputs": [
    {
     "data": {
      "text/plain": [
       "0"
      ]
     },
     "execution_count": 2,
     "metadata": {},
     "output_type": "execute_result"
    }
   ],
   "source": [
    "# subtracao\n",
    "1 - 1"
   ]
  },
  {
   "cell_type": "code",
   "execution_count": 3,
   "metadata": {},
   "outputs": [
    {
     "data": {
      "text/plain": [
       "11.0"
      ]
     },
     "execution_count": 3,
     "metadata": {},
     "output_type": "execute_result"
    }
   ],
   "source": [
    "# Divisao\n",
    "22 / 2"
   ]
  },
  {
   "cell_type": "code",
   "execution_count": 4,
   "metadata": {},
   "outputs": [
    {
     "data": {
      "text/plain": [
       "15"
      ]
     },
     "execution_count": 4,
     "metadata": {},
     "output_type": "execute_result"
    }
   ],
   "source": [
    "# multiplicacao\n",
    "3 * 5"
   ]
  },
  {
   "cell_type": "code",
   "execution_count": 5,
   "metadata": {},
   "outputs": [
    {
     "data": {
      "text/plain": [
       "8"
      ]
     },
     "execution_count": 5,
     "metadata": {},
     "output_type": "execute_result"
    }
   ],
   "source": [
    "# Potencia\n",
    "2 ** 3"
   ]
  },
  {
   "cell_type": "code",
   "execution_count": 6,
   "metadata": {},
   "outputs": [
    {
     "data": {
      "text/plain": [
       "25"
      ]
     },
     "execution_count": 6,
     "metadata": {},
     "output_type": "execute_result"
    }
   ],
   "source": [
    "# expressao\n",
    "(2 + 3) * 5"
   ]
  },
  {
   "cell_type": "code",
   "execution_count": 7,
   "metadata": {},
   "outputs": [
    {
     "data": {
      "text/plain": [
       "16.0"
      ]
     },
     "execution_count": 7,
     "metadata": {},
     "output_type": "execute_result"
    }
   ],
   "source": [
    "# expressao\n",
    "(5 - 1) * ((7 + 1) / (3 - 1))"
   ]
  },
  {
   "cell_type": "markdown",
   "metadata": {},
   "source": [
    "## 2. Tipos de Dados"
   ]
  },
  {
   "cell_type": "code",
   "execution_count": 8,
   "metadata": {},
   "outputs": [
    {
     "data": {
      "text/plain": [
       "int"
      ]
     },
     "execution_count": 8,
     "metadata": {},
     "output_type": "execute_result"
    }
   ],
   "source": [
    "# Interger\n",
    "type(1)"
   ]
  },
  {
   "cell_type": "code",
   "execution_count": 9,
   "metadata": {},
   "outputs": [
    {
     "data": {
      "text/plain": [
       "float"
      ]
     },
     "execution_count": 9,
     "metadata": {},
     "output_type": "execute_result"
    }
   ],
   "source": [
    "# Float point\n",
    "type(1.0)"
   ]
  },
  {
   "cell_type": "code",
   "execution_count": 10,
   "metadata": {},
   "outputs": [
    {
     "data": {
      "text/plain": [
       "str"
      ]
     },
     "execution_count": 10,
     "metadata": {},
     "output_type": "execute_result"
    }
   ],
   "source": [
    "# String\n",
    "type('Bom dia!')"
   ]
  },
  {
   "cell_type": "markdown",
   "metadata": {},
   "source": [
    "## 3. Trabalhando com Variáveis\n",
    "Variáveis são objetos que armazenam informações e precisam seguir o padrão:\n",
    "* Sem infén (var-1)\n",
    "* Sem espaço (var 1)\n",
    "* Não deve começar com numero (1var)\n",
    "* Carcteres espciais não são permitidos (var$1, 'var1')\n"
   ]
  },
  {
   "cell_type": "code",
   "execution_count": 11,
   "metadata": {},
   "outputs": [
    {
     "name": "stdout",
     "output_type": "stream",
     "text": [
      "5\n"
     ]
    }
   ],
   "source": [
    "var1 = 5\n",
    "print(var1)"
   ]
  },
  {
   "cell_type": "markdown",
   "metadata": {},
   "source": [
    "## 4. Operações Condicionais"
   ]
  },
  {
   "cell_type": "code",
   "execution_count": 12,
   "metadata": {},
   "outputs": [
    {
     "name": "stdout",
     "output_type": "stream",
     "text": [
      "True\n",
      "False\n"
     ]
    }
   ],
   "source": [
    "# igual\n",
    "print(42 == 42)\n",
    "print(32 == 9)"
   ]
  },
  {
   "cell_type": "code",
   "execution_count": 13,
   "metadata": {},
   "outputs": [
    {
     "name": "stdout",
     "output_type": "stream",
     "text": [
      "True\n",
      "False\n"
     ]
    }
   ],
   "source": [
    "# diferente\n",
    "print(10 != 12)\n",
    "print('maria' != 'maria')"
   ]
  },
  {
   "cell_type": "code",
   "execution_count": 14,
   "metadata": {},
   "outputs": [
    {
     "name": "stdout",
     "output_type": "stream",
     "text": [
      "True\n",
      "False\n"
     ]
    }
   ],
   "source": [
    "# maior que\n",
    "print(3 > 0)\n",
    "print('test' > 'teste')"
   ]
  },
  {
   "cell_type": "code",
   "execution_count": 15,
   "metadata": {},
   "outputs": [
    {
     "name": "stdout",
     "output_type": "stream",
     "text": [
      "False\n",
      "True\n"
     ]
    }
   ],
   "source": [
    "# menor que\n",
    "print(10 < 5)\n",
    "print(5 < 10)"
   ]
  },
  {
   "cell_type": "code",
   "execution_count": 27,
   "metadata": {},
   "outputs": [
    {
     "name": "stdout",
     "output_type": "stream",
     "text": [
      "True\n",
      "False\n",
      "True\n",
      "False\n"
     ]
    }
   ],
   "source": [
    "# and\n",
    "print(True and True)\n",
    "print(False and False)\n",
    "print(True & True)"
   ]
  },
  {
   "cell_type": "markdown",
   "metadata": {},
   "source": [
    "Usar o 'and' em condições dentro de um 'if', por exemplo. Usar '&' em condições dentro do pandas."
   ]
  },
  {
   "cell_type": "code",
   "execution_count": 17,
   "metadata": {},
   "outputs": [
    {
     "name": "stdout",
     "output_type": "stream",
     "text": [
      "False\n",
      "True\n",
      "True\n"
     ]
    }
   ],
   "source": [
    "# or\n",
    "print(False or False)\n",
    "print(True or False)\n",
    "print(True | False)"
   ]
  },
  {
   "cell_type": "markdown",
   "metadata": {},
   "source": [
    "Usar o 'or' em condições dentro de um 'if', por exemplo. Usar '|' em condições dentro do pandas."
   ]
  },
  {
   "cell_type": "code",
   "execution_count": 18,
   "metadata": {},
   "outputs": [
    {
     "name": "stdout",
     "output_type": "stream",
     "text": [
      "False\n",
      "True\n"
     ]
    }
   ],
   "source": [
    "# not\n",
    "print(not True)\n",
    "print(not False)"
   ]
  },
  {
   "cell_type": "code",
   "execution_count": 3,
   "metadata": {},
   "outputs": [
    {
     "name": "stdout",
     "output_type": "stream",
     "text": [
      "True\n",
      "False\n",
      "True\n"
     ]
    }
   ],
   "source": [
    "'''Anotações virginia: poderia ser 'filho' not in 'deputado do psol'\n",
    "   Ou ainda: 'filho' in 'deputado paulo, filho do ex-prefeito, Toberto'\n",
    "'''   \n",
    "\n",
    "print('filho' not in 'deputado do psol') #not in\n",
    "print('filho' not in 'deputado paulo, filho do ex-prefeito, Toberto') #not in\n",
    "print('filho' in 'deputado paulo, filho do ex-prefeito, Toberto') #in"
   ]
  },
  {
   "cell_type": "markdown",
   "metadata": {},
   "source": [
    "## 5. Controle de Fluxo (flow control statements)"
   ]
  },
  {
   "cell_type": "markdown",
   "metadata": {},
   "source": [
    "Sempre prestar atenção na identação"
   ]
  },
  {
   "cell_type": "code",
   "execution_count": 5,
   "metadata": {},
   "outputs": [
    {
     "name": "stdout",
     "output_type": "stream",
     "text": [
      "1 maior que 0\n"
     ]
    }
   ],
   "source": [
    "# if\n",
    "if 1 > 0:\n",
    "    print('1 maior que 0')"
   ]
  },
  {
   "cell_type": "code",
   "execution_count": 4,
   "metadata": {},
   "outputs": [],
   "source": [
    "if 50 > 60:\n",
    "    print('50 maior que 60')"
   ]
  },
  {
   "cell_type": "code",
   "execution_count": 6,
   "metadata": {},
   "outputs": [
    {
     "name": "stdout",
     "output_type": "stream",
     "text": [
      "2 igual a 2\n"
     ]
    }
   ],
   "source": [
    "# else\n",
    "if 2 == 2:\n",
    "    print('2 igual a 2')\n",
    "else:\n",
    "    print('2 não é igual a 2')"
   ]
  },
  {
   "cell_type": "code",
   "execution_count": 22,
   "metadata": {},
   "outputs": [
    {
     "name": "stdout",
     "output_type": "stream",
     "text": [
      "2 igual a 2\n"
     ]
    }
   ],
   "source": [
    "# elif\n",
    "if 2 > 2:\n",
    "    print('2 maior que 2')\n",
    "elif 2 < 2:\n",
    "    print('2 menor que 2')\n",
    "else:\n",
    "    print('2 igual a 2')"
   ]
  },
  {
   "cell_type": "code",
   "execution_count": 23,
   "metadata": {},
   "outputs": [
    {
     "name": "stdout",
     "output_type": "stream",
     "text": [
      "0\n",
      "1\n",
      "2\n",
      "3\n",
      "4\n"
     ]
    }
   ],
   "source": [
    "# while\n",
    "count = 0\n",
    "while count < 5:\n",
    "    print(count)\n",
    "    count = count + 1\n",
    "\n",
    "'''Comentário virginia: isso eu poderia usar dentro do meu loop para tentar fazer com que a função rode somente até \n",
    "   chegar no valor máximo por chave (que é de até 50 candidatos - 100 requests - por chave)\n",
    "'''"
   ]
  },
  {
   "cell_type": "code",
   "execution_count": 24,
   "metadata": {},
   "outputs": [
    {
     "name": "stdout",
     "output_type": "stream",
     "text": [
      "0\n",
      "1\n",
      "2\n",
      "3\n",
      "4\n"
     ]
    }
   ],
   "source": [
    "# for e range()\n",
    "for i in range(5):\n",
    "    print(i) \n",
    "\n",
    "'''Comentário virginia: esse range foi o que Claudio usou para corrigir o problema do meu loop:\n",
    "   Quando você tem ações repetidas ou precisa fazer mais de uma ação com uma lista, é melhor definir\n",
    "   o range, que vai servir como um \"index\" para o Python. ele usou também o lenght pra poder dizer ao python que o\n",
    "   tamanho do range é o tamanho da lista. Por isso, quando eu colocava somente o nome da lista, o python só executava\n",
    "   tarefa uma vez (e aí só pegava 10 requests de um candidato).\n",
    "'''"
   ]
  },
  {
   "cell_type": "code",
   "execution_count": 25,
   "metadata": {},
   "outputs": [
    {
     "name": "stdout",
     "output_type": "stream",
     "text": [
      "0\n",
      "1\n",
      "2\n",
      "3\n",
      "4\n",
      "5\n"
     ]
    }
   ],
   "source": [
    "for qlq_nome in range(6):\n",
    "    print(qlq_nome)\n",
    "\n",
    "'''Comentário virginia: aqui ele está definindo que o range é de 6 (que vai se 0 a 5)    \n",
    "'''"
   ]
  },
  {
   "cell_type": "markdown",
   "metadata": {},
   "source": [
    "## 6. Funções"
   ]
  },
  {
   "cell_type": "code",
   "execution_count": 3,
   "metadata": {},
   "outputs": [
    {
     "data": {
      "text/plain": [
       "'Comentário virginia: Numero e numero2 são os argumentos que precisarão ser usados, colocados na função\\n'"
      ]
     },
     "execution_count": 3,
     "metadata": {},
     "output_type": "execute_result"
    }
   ],
   "source": [
    "# definindo funcao\n",
    "def funcao1(numero, numero2):\n",
    "    numero_novo = numero + numero2\n",
    "    return numero_novo\n",
    "\n",
    "'''Comentário virginia: Numero e numero2 são os argumentos que precisarão ser usados, colocados na função\n",
    "'''"
   ]
  },
  {
   "cell_type": "code",
   "execution_count": 4,
   "metadata": {},
   "outputs": [
    {
     "data": {
      "text/plain": [
       "15"
      ]
     },
     "execution_count": 4,
     "metadata": {},
     "output_type": "execute_result"
    }
   ],
   "source": [
    "# executando funcao\n",
    "funcao1(5, 10)"
   ]
  },
  {
   "cell_type": "markdown",
   "metadata": {},
   "source": [
    "Comentário virginia: aqui Claudio explica como se deve documentar a função (com esses comentários entre ''' e ''')"
   ]
  },
  {
   "cell_type": "code",
   "execution_count": 28,
   "metadata": {},
   "outputs": [],
   "source": [
    "# documentacao da funcao\n",
    "def funcao1(numero):\n",
    "    ''' funcao que recebe um numero\n",
    "        e retorna o numero mais um\n",
    "    '''\n",
    "    numero_novo = numero + 1\n",
    "    return numero_novo"
   ]
  },
  {
   "cell_type": "code",
   "execution_count": 65,
   "metadata": {},
   "outputs": [],
   "source": [
    "def funcao2(num_a, num_b):\n",
    "    ''' recebe dois numeros, \n",
    "        eleva o primeiro a potencia do segundo\n",
    "        retorna se o numero resultante e menor que 1000\n",
    "    '''\n",
    "    num_c = num_a**num_b\n",
    "    if num_c < 1000:\n",
    "        return True\n",
    "    else:\n",
    "        return False"
   ]
  },
  {
   "cell_type": "code",
   "execution_count": 66,
   "metadata": {},
   "outputs": [
    {
     "data": {
      "text/plain": [
       "True"
      ]
     },
     "execution_count": 66,
     "metadata": {},
     "output_type": "execute_result"
    }
   ],
   "source": [
    "funcao2(10, 2)"
   ]
  },
  {
   "cell_type": "markdown",
   "metadata": {},
   "source": [
    "## 7. Exercicios \n",
    "\n",
    "## Atenção! Não vale procurar a solução na internet. A ideia aqui é exercitar o pensamento algoritimíco, em que você traça uma solução baseada no que foi visto até o momento. \n",
    "\n",
    "7.1 Crie e execute uma função que recebe um número qualquer e retorna a soma de todos os números de 1 até o número recebido. Ex: recebe 5 e retorna 1+2+3+4+5.\n",
    "\n",
    "7.2 Faça uma função que recebe dois números, base e expoente, calcula e mostra o primeiro número elevado ao segundo número. Não utilize a função de potência da linguagem.\n",
    "\n",
    "7.3 Crie e execute uma função que mostra a sequência de Fibonacci até 20 termos. O número seguinte é encontrado a partir da soma dos dois números anteriores. Primeiros 10 termos da sequência de Fibonacci: 0  1  1  2  3  5  8  13  21  34. \n",
    "\n",
    "7.4 Supondo que a população de um país A seja da ordem de 80000 habitantes com uma taxa anual de crescimento de 3% e que a população de B seja 200000 habitantes com uma taxa de crescimento de 1.5%. Faça uma função que calcula e retorna o número de anos necessários para que a população do país A ultrapasse ou iguale a população do país B, mantidas as taxas de crescimento."
   ]
  },
  {
   "cell_type": "code",
   "execution_count": 146,
   "metadata": {},
   "outputs": [],
   "source": [
    "#resolucao 7.1\n",
    "\n",
    "def funcaosoma(numero):\n",
    "    '''funcao que recebe um numero qualquer e retorna a soma de todos os numeros de 1 ate o numero recebido\n",
    "    '''\n",
    "    soma = sum(range(1,numero + 1)) #adicionar o +1 para somar o número recebido\n",
    "    return soma\n"
   ]
  },
  {
   "cell_type": "code",
   "execution_count": 147,
   "metadata": {},
   "outputs": [
    {
     "data": {
      "text/plain": [
       "21"
      ]
     },
     "execution_count": 147,
     "metadata": {},
     "output_type": "execute_result"
    }
   ],
   "source": [
    "funcaosoma(6)"
   ]
  },
  {
   "cell_type": "code",
   "execution_count": 141,
   "metadata": {},
   "outputs": [],
   "source": [
    "# resolucao 7.2\n",
    "\n",
    "def potencia(a,b):\n",
    "    '''recebe base (a) e expoente (b) e, de acordo com o valor de b, sendo ele entre 0 e 3, multiplica a por a.\n",
    "    '''\n",
    "    \n",
    "    if b == 0:\n",
    "        return 1\n",
    "    elif b == 1:\n",
    "        return a\n",
    "    elif b == 2:\n",
    "        return a*a\n",
    "    elif b == 3:\n",
    "        return a*a*a\n",
    "    else:\n",
    "        return 'não sabia mais o que tentar :('"
   ]
  },
  {
   "cell_type": "code",
   "execution_count": 142,
   "metadata": {},
   "outputs": [
    {
     "data": {
      "text/plain": [
       "27"
      ]
     },
     "execution_count": 142,
     "metadata": {},
     "output_type": "execute_result"
    }
   ],
   "source": [
    "potencia(3,3)"
   ]
  },
  {
   "cell_type": "code",
   "execution_count": 58,
   "metadata": {},
   "outputs": [],
   "source": [
    "# resolucao 7.3\n",
    "\n",
    "def fib(n):    # write Fibonacci series up to n\n",
    "    '''Print a Fibonacci series up to n\n",
    "       Limit results up to 20 numbers (which it happens when n <= 4182)\n",
    "    '''\n",
    "    \n",
    "    if n <= 4182: #this part I got from https://docs.python.org/3/tutorial/controlflow.html\n",
    "        a, b = 0, 1\n",
    "        while a < n:\n",
    "            print(a, end=' ')\n",
    "            a, b = b, a+b\n",
    "        print()\n",
    "\n",
    "    elif n > 4182:  \n",
    "        print('Result must be up to 20 numbers of Fibonacci sequence')"
   ]
  },
  {
   "cell_type": "code",
   "execution_count": 62,
   "metadata": {},
   "outputs": [
    {
     "name": "stdout",
     "output_type": "stream",
     "text": [
      "0 1 1 2 3 5 8 13 21 34 55 89 144 233 377 610 987 1597 2584 4181 \n"
     ]
    }
   ],
   "source": [
    "fib(4182)"
   ]
  },
  {
   "cell_type": "code",
   "execution_count": 154,
   "metadata": {},
   "outputs": [],
   "source": [
    "#resolucao 7.4\n",
    "\n",
    "#nao consegui resolver\n",
    "\n",
    "#esse foi o meu primeiro esboço\n",
    "def pop():\n",
    "    a,b = 80000,200000\n",
    "    count = 0\n",
    "    while a < b:\n",
    "        a = (a*0.03)+a\n",
    "        b = (b*0.015)+b\n",
    "        count += 1 # += seria o mesmo que count + 1 - pega o valor da variável que está atribuindo e soma um valor a ela\n",
    "        if a >= b:\n",
    "            return count\n",
    "\n",
    "\n",
    "\n"
   ]
  },
  {
   "cell_type": "code",
   "execution_count": 155,
   "metadata": {},
   "outputs": [
    {
     "data": {
      "text/plain": [
       "63"
      ]
     },
     "execution_count": 155,
     "metadata": {},
     "output_type": "execute_result"
    }
   ],
   "source": [
    "pop()"
   ]
  },
  {
   "cell_type": "markdown",
   "metadata": {},
   "source": [
    "## 8. Material Extra\n",
    "\n",
    "* https://www.datacamp.com/\n",
    "* https://docs.python.org/3/tutorial/index.html\n",
    "* https://panda.ime.usp.br/cc110/static/cc110/index.html"
   ]
  },
  {
   "cell_type": "code",
   "execution_count": 145,
   "metadata": {},
   "outputs": [
    {
     "data": {
      "text/plain": [
       "'c:\\\\Users\\\\Maria\\\\OneDrive\\\\Work\\\\PhD UFPE\\\\Treinar Python\\\\data_theses'"
      ]
     },
     "execution_count": 145,
     "metadata": {},
     "output_type": "execute_result"
    }
   ],
   "source": [
    "pwd"
   ]
  }
 ],
 "metadata": {
  "interpreter": {
   "hash": "b3ba2566441a7c06988d0923437866b63cedc61552a5af99d1f4fb67d367b25f"
  },
  "kernelspec": {
   "display_name": "Python 3.8.8 64-bit ('base': conda)",
   "name": "python3"
  },
  "language_info": {
   "codemirror_mode": {
    "name": "ipython",
    "version": 3
   },
   "file_extension": ".py",
   "mimetype": "text/x-python",
   "name": "python",
   "nbconvert_exporter": "python",
   "pygments_lexer": "ipython3",
   "version": "3.8.8"
  }
 },
 "nbformat": 4,
 "nbformat_minor": 2
}
